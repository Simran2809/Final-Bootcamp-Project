{
 "cells": [
  {
   "cell_type": "markdown",
   "id": "b00a91d1",
   "metadata": {},
   "source": [
    "# Import libraries"
   ]
  },
  {
   "cell_type": "code",
   "execution_count": 1,
   "id": "d0de9953",
   "metadata": {},
   "outputs": [],
   "source": [
    "# Import libraries\n",
    "import pandas as pd\n",
    "import numpy as np\n",
    "import seaborn as sns\n",
    "import numpy as np\n",
    "import sklearn"
   ]
  },
  {
   "cell_type": "markdown",
   "id": "8a2be27d",
   "metadata": {},
   "source": [
    "# Load Clean Data"
   ]
  },
  {
   "cell_type": "code",
   "execution_count": 2,
   "id": "4d5aadc1",
   "metadata": {},
   "outputs": [],
   "source": [
    "#Reading the cleaned data\n",
    "df = pd.read_csv(\"cleaned_data.csv\")"
   ]
  },
  {
   "cell_type": "code",
   "execution_count": 8,
   "id": "78863fd9",
   "metadata": {},
   "outputs": [
    {
     "data": {
      "text/html": [
       "<div>\n",
       "<style scoped>\n",
       "    .dataframe tbody tr th:only-of-type {\n",
       "        vertical-align: middle;\n",
       "    }\n",
       "\n",
       "    .dataframe tbody tr th {\n",
       "        vertical-align: top;\n",
       "    }\n",
       "\n",
       "    .dataframe thead th {\n",
       "        text-align: right;\n",
       "    }\n",
       "</style>\n",
       "<table border=\"1\" class=\"dataframe\">\n",
       "  <thead>\n",
       "    <tr style=\"text-align: right;\">\n",
       "      <th></th>\n",
       "      <th>price</th>\n",
       "      <th>sqft_living</th>\n",
       "      <th>sqft_lot</th>\n",
       "      <th>sqft_above</th>\n",
       "      <th>sqft_basement</th>\n",
       "      <th>yr_built</th>\n",
       "      <th>yr_renovated</th>\n",
       "      <th>sqft_living15</th>\n",
       "      <th>sqft_lot15</th>\n",
       "      <th>bedrooms_3</th>\n",
       "      <th>...</th>\n",
       "      <th>view_3</th>\n",
       "      <th>view_4</th>\n",
       "      <th>condition_2</th>\n",
       "      <th>condition_3</th>\n",
       "      <th>condition_4</th>\n",
       "      <th>condition_5</th>\n",
       "      <th>grade_7</th>\n",
       "      <th>grade_8</th>\n",
       "      <th>grade_9</th>\n",
       "      <th>grade_All Others</th>\n",
       "    </tr>\n",
       "  </thead>\n",
       "  <tbody>\n",
       "    <tr>\n",
       "      <th>0</th>\n",
       "      <td>221900.0</td>\n",
       "      <td>0.211488</td>\n",
       "      <td>0.275495</td>\n",
       "      <td>0.240356</td>\n",
       "      <td>0.00</td>\n",
       "      <td>0.478261</td>\n",
       "      <td>0.0</td>\n",
       "      <td>0.236842</td>\n",
       "      <td>0.295816</td>\n",
       "      <td>True</td>\n",
       "      <td>...</td>\n",
       "      <td>False</td>\n",
       "      <td>False</td>\n",
       "      <td>False</td>\n",
       "      <td>True</td>\n",
       "      <td>False</td>\n",
       "      <td>False</td>\n",
       "      <td>True</td>\n",
       "      <td>False</td>\n",
       "      <td>False</td>\n",
       "      <td>False</td>\n",
       "    </tr>\n",
       "    <tr>\n",
       "      <th>1</th>\n",
       "      <td>180000.0</td>\n",
       "      <td>0.104439</td>\n",
       "      <td>0.509103</td>\n",
       "      <td>0.118694</td>\n",
       "      <td>0.00</td>\n",
       "      <td>0.286957</td>\n",
       "      <td>0.0</td>\n",
       "      <td>0.690789</td>\n",
       "      <td>0.438547</td>\n",
       "      <td>False</td>\n",
       "      <td>...</td>\n",
       "      <td>False</td>\n",
       "      <td>False</td>\n",
       "      <td>False</td>\n",
       "      <td>True</td>\n",
       "      <td>False</td>\n",
       "      <td>False</td>\n",
       "      <td>False</td>\n",
       "      <td>False</td>\n",
       "      <td>False</td>\n",
       "      <td>False</td>\n",
       "    </tr>\n",
       "    <tr>\n",
       "      <th>2</th>\n",
       "      <td>604000.0</td>\n",
       "      <td>0.415144</td>\n",
       "      <td>0.240589</td>\n",
       "      <td>0.201780</td>\n",
       "      <td>0.65</td>\n",
       "      <td>0.565217</td>\n",
       "      <td>0.0</td>\n",
       "      <td>0.243421</td>\n",
       "      <td>0.257353</td>\n",
       "      <td>False</td>\n",
       "      <td>...</td>\n",
       "      <td>False</td>\n",
       "      <td>False</td>\n",
       "      <td>False</td>\n",
       "      <td>False</td>\n",
       "      <td>False</td>\n",
       "      <td>True</td>\n",
       "      <td>True</td>\n",
       "      <td>False</td>\n",
       "      <td>False</td>\n",
       "      <td>False</td>\n",
       "    </tr>\n",
       "    <tr>\n",
       "      <th>3</th>\n",
       "      <td>510000.0</td>\n",
       "      <td>0.342037</td>\n",
       "      <td>0.405993</td>\n",
       "      <td>0.388724</td>\n",
       "      <td>0.00</td>\n",
       "      <td>0.756522</td>\n",
       "      <td>0.0</td>\n",
       "      <td>0.388158</td>\n",
       "      <td>0.405468</td>\n",
       "      <td>True</td>\n",
       "      <td>...</td>\n",
       "      <td>False</td>\n",
       "      <td>False</td>\n",
       "      <td>False</td>\n",
       "      <td>True</td>\n",
       "      <td>False</td>\n",
       "      <td>False</td>\n",
       "      <td>False</td>\n",
       "      <td>True</td>\n",
       "      <td>False</td>\n",
       "      <td>False</td>\n",
       "    </tr>\n",
       "    <tr>\n",
       "      <th>4</th>\n",
       "      <td>257500.0</td>\n",
       "      <td>0.351175</td>\n",
       "      <td>0.338274</td>\n",
       "      <td>0.399110</td>\n",
       "      <td>0.00</td>\n",
       "      <td>0.826087</td>\n",
       "      <td>0.0</td>\n",
       "      <td>0.532237</td>\n",
       "      <td>0.364992</td>\n",
       "      <td>True</td>\n",
       "      <td>...</td>\n",
       "      <td>False</td>\n",
       "      <td>False</td>\n",
       "      <td>False</td>\n",
       "      <td>True</td>\n",
       "      <td>False</td>\n",
       "      <td>False</td>\n",
       "      <td>True</td>\n",
       "      <td>False</td>\n",
       "      <td>False</td>\n",
       "      <td>False</td>\n",
       "    </tr>\n",
       "  </tbody>\n",
       "</table>\n",
       "<p>5 rows × 37 columns</p>\n",
       "</div>"
      ],
      "text/plain": [
       "      price  sqft_living  sqft_lot  sqft_above  sqft_basement  yr_built  \\\n",
       "0  221900.0     0.211488  0.275495    0.240356           0.00  0.478261   \n",
       "1  180000.0     0.104439  0.509103    0.118694           0.00  0.286957   \n",
       "2  604000.0     0.415144  0.240589    0.201780           0.65  0.565217   \n",
       "3  510000.0     0.342037  0.405993    0.388724           0.00  0.756522   \n",
       "4  257500.0     0.351175  0.338274    0.399110           0.00  0.826087   \n",
       "\n",
       "   yr_renovated  sqft_living15  sqft_lot15  bedrooms_3  ...  view_3  view_4  \\\n",
       "0           0.0       0.236842    0.295816        True  ...   False   False   \n",
       "1           0.0       0.690789    0.438547       False  ...   False   False   \n",
       "2           0.0       0.243421    0.257353       False  ...   False   False   \n",
       "3           0.0       0.388158    0.405468        True  ...   False   False   \n",
       "4           0.0       0.532237    0.364992        True  ...   False   False   \n",
       "\n",
       "   condition_2  condition_3  condition_4  condition_5  grade_7  grade_8  \\\n",
       "0        False         True        False        False     True    False   \n",
       "1        False         True        False        False    False    False   \n",
       "2        False        False        False         True     True    False   \n",
       "3        False         True        False        False    False     True   \n",
       "4        False         True        False        False     True    False   \n",
       "\n",
       "   grade_9  grade_All Others  \n",
       "0    False             False  \n",
       "1    False             False  \n",
       "2    False             False  \n",
       "3    False             False  \n",
       "4    False             False  \n",
       "\n",
       "[5 rows x 37 columns]"
      ]
     },
     "metadata": {},
     "output_type": "display_data"
    }
   ],
   "source": [
    "display(df.head())"
   ]
  },
  {
   "cell_type": "markdown",
   "id": "fdd986ef",
   "metadata": {},
   "source": [
    "# Split Features / Target"
   ]
  },
  {
   "cell_type": "code",
   "execution_count": 11,
   "id": "8edcd752",
   "metadata": {},
   "outputs": [],
   "source": [
    "# Separate the features from the target\n",
    "y = df['price']\n",
    "X = df.drop(['price'], axis=1)"
   ]
  },
  {
   "cell_type": "markdown",
   "id": "90aa8b0a",
   "metadata": {},
   "source": [
    "# Train-Test Split"
   ]
  },
  {
   "cell_type": "code",
   "execution_count": 19,
   "id": "590682ce",
   "metadata": {},
   "outputs": [],
   "source": [
    "from sklearn.model_selection import train_test_split\n",
    "\n",
    "# Splitting the dataset 80% training 20% test\n",
    "\n",
    "X_train, X_test, y_train, y_test = train_test_split(features, target, test_size=0.2, random_state=1)"
   ]
  },
  {
   "cell_type": "code",
   "execution_count": 21,
   "id": "b97a34e6",
   "metadata": {},
   "outputs": [
    {
     "name": "stdout",
     "output_type": "stream",
     "text": [
      "X_train shape >> (13482, 36)\n",
      "y_train shape >> (13482,)\n",
      "X_test shape >> (3371, 36)\n",
      "y_test shape >> (3371,)\n"
     ]
    }
   ],
   "source": [
    "# Checking splits of test train data\n",
    "\n",
    "print(f'X_train shape >> {X_train.shape}')\n",
    "print(f'y_train shape >> {y_train.shape}')\n",
    "print(f'X_test shape >> {X_test.shape}')\n",
    "print(f'y_test shape >> {y_test.shape}')"
   ]
  },
  {
   "cell_type": "markdown",
   "id": "e25067c7",
   "metadata": {},
   "source": [
    "# Model Selection"
   ]
  },
  {
   "cell_type": "code",
   "execution_count": 23,
   "id": "916db484",
   "metadata": {},
   "outputs": [
    {
     "name": "stderr",
     "output_type": "stream",
     "text": [
      "C:\\Users\\simra\\Downloads\\Ironhack\\Week_5\\Mid_bootcamp_project\\mid_bootcamp_env\\lib\\site-packages\\sklearn\\model_selection\\_split.py:725: UserWarning: The least populated class in y has only 1 members, which is less than n_splits=5.\n",
      "  warnings.warn(\n",
      "C:\\Users\\simra\\Downloads\\Ironhack\\Week_5\\Mid_bootcamp_project\\mid_bootcamp_env\\lib\\site-packages\\sklearn\\linear_model\\_logistic.py:460: ConvergenceWarning: lbfgs failed to converge (status=1):\n",
      "STOP: TOTAL NO. of ITERATIONS REACHED LIMIT.\n",
      "\n",
      "Increase the number of iterations (max_iter) or scale the data as shown in:\n",
      "    https://scikit-learn.org/stable/modules/preprocessing.html\n",
      "Please also refer to the documentation for alternative solver options:\n",
      "    https://scikit-learn.org/stable/modules/linear_model.html#logistic-regression\n",
      "  n_iter_i = _check_optimize_result(\n",
      "C:\\Users\\simra\\Downloads\\Ironhack\\Week_5\\Mid_bootcamp_project\\mid_bootcamp_env\\lib\\site-packages\\sklearn\\linear_model\\_logistic.py:460: ConvergenceWarning: lbfgs failed to converge (status=1):\n",
      "STOP: TOTAL NO. of ITERATIONS REACHED LIMIT.\n",
      "\n",
      "Increase the number of iterations (max_iter) or scale the data as shown in:\n",
      "    https://scikit-learn.org/stable/modules/preprocessing.html\n",
      "Please also refer to the documentation for alternative solver options:\n",
      "    https://scikit-learn.org/stable/modules/linear_model.html#logistic-regression\n",
      "  n_iter_i = _check_optimize_result(\n",
      "C:\\Users\\simra\\Downloads\\Ironhack\\Week_5\\Mid_bootcamp_project\\mid_bootcamp_env\\lib\\site-packages\\sklearn\\linear_model\\_logistic.py:460: ConvergenceWarning: lbfgs failed to converge (status=1):\n",
      "STOP: TOTAL NO. of ITERATIONS REACHED LIMIT.\n",
      "\n",
      "Increase the number of iterations (max_iter) or scale the data as shown in:\n",
      "    https://scikit-learn.org/stable/modules/preprocessing.html\n",
      "Please also refer to the documentation for alternative solver options:\n",
      "    https://scikit-learn.org/stable/modules/linear_model.html#logistic-regression\n",
      "  n_iter_i = _check_optimize_result(\n",
      "C:\\Users\\simra\\Downloads\\Ironhack\\Week_5\\Mid_bootcamp_project\\mid_bootcamp_env\\lib\\site-packages\\sklearn\\linear_model\\_logistic.py:460: ConvergenceWarning: lbfgs failed to converge (status=1):\n",
      "STOP: TOTAL NO. of ITERATIONS REACHED LIMIT.\n",
      "\n",
      "Increase the number of iterations (max_iter) or scale the data as shown in:\n",
      "    https://scikit-learn.org/stable/modules/preprocessing.html\n",
      "Please also refer to the documentation for alternative solver options:\n",
      "    https://scikit-learn.org/stable/modules/linear_model.html#logistic-regression\n",
      "  n_iter_i = _check_optimize_result(\n",
      "C:\\Users\\simra\\Downloads\\Ironhack\\Week_5\\Mid_bootcamp_project\\mid_bootcamp_env\\lib\\site-packages\\sklearn\\linear_model\\_logistic.py:460: ConvergenceWarning: lbfgs failed to converge (status=1):\n",
      "STOP: TOTAL NO. of ITERATIONS REACHED LIMIT.\n",
      "\n",
      "Increase the number of iterations (max_iter) or scale the data as shown in:\n",
      "    https://scikit-learn.org/stable/modules/preprocessing.html\n",
      "Please also refer to the documentation for alternative solver options:\n",
      "    https://scikit-learn.org/stable/modules/linear_model.html#logistic-regression\n",
      "  n_iter_i = _check_optimize_result(\n"
     ]
    },
    {
     "name": "stdout",
     "output_type": "stream",
     "text": [
      "{'Logistic Regression': 0.011126083603168264, 'Random Forest Regressor': 0.6161201636028752, 'KNN': 0.47475394406233085}\n"
     ]
    }
   ],
   "source": [
    "# Create models\n",
    "model1 = LogisticRegression()\n",
    "model2 = RandomForestRegressor()\n",
    "model3 = KNeighborsRegressor()\n",
    "\n",
    "model_pipeline = [model1, model2, model3]\n",
    "model_names = ['Logistic Regression', 'Random Forest Regressor', 'KNN']\n",
    "\n",
    "scores = {}\n",
    "\n",
    "for model, model_name in zip(model_pipeline, model_names):\n",
    "    mean_score = np.mean(cross_val_score(model, X_train, y_train, cv=5))\n",
    "    scores[model_name] = mean_score\n",
    "\n",
    "print(scores)"
   ]
  },
  {
   "cell_type": "markdown",
   "id": "bb4ab94b",
   "metadata": {},
   "source": [
    "# 1. Regression Model"
   ]
  },
  {
   "cell_type": "code",
   "execution_count": 6,
   "id": "5b05aca9",
   "metadata": {},
   "outputs": [],
   "source": [
    "# Fitting the regression equation with all features of training data \n",
    "\n",
    "from sklearn.linear_model import LinearRegression\n",
    "\n",
    "\n",
    "# Forming regression equation by inputing training data\n",
    "reg = LinearRegression().fit(features_train, target_train)"
   ]
  },
  {
   "cell_type": "code",
   "execution_count": 7,
   "id": "897c192e",
   "metadata": {},
   "outputs": [
    {
     "name": "stdout",
     "output_type": "stream",
     "text": [
      "Results of Linear Regression Model on Train Data\n",
      "mse: 17596566615.27656, r2: 0.5323542857713297 \n",
      "\n",
      "Results of Linear Regression Model on Test Data\n",
      "mse: 18610335601.97623, r2: 0.5178683559399712\n"
     ]
    }
   ],
   "source": [
    "# Checking mse and r2 on train data from the equation formed above\n",
    "from sklearn.metrics import mean_squared_error, r2_score\n",
    "\n",
    "mse = mean_squared_error(target_train, reg.predict(features_train))\n",
    "r2 = r2_score(target_train, reg.predict(features_train))\n",
    "\n",
    "print('Results of Linear Regression Model on Train Data')\n",
    "print(f\"mse: {mse}, r2: {r2} \\n\")\n",
    "\n",
    "# Checking mse and r2 on test data from the equation formed above\n",
    "from sklearn.metrics import mean_squared_error, r2_score\n",
    "\n",
    "mse = mean_squared_error(target_test, reg.predict(features_test))\n",
    "r2 = r2_score(target_test, reg.predict(features_test))\n",
    "\n",
    "print('Results of Linear Regression Model on Test Data')\n",
    "print(f\"mse: {mse}, r2: {r2}\")"
   ]
  },
  {
   "cell_type": "markdown",
   "id": "5c6cd8c1",
   "metadata": {},
   "source": [
    "# 2. Random Forest Regressor"
   ]
  },
  {
   "cell_type": "code",
   "execution_count": 25,
   "id": "4d19d356",
   "metadata": {},
   "outputs": [
    {
     "name": "stdout",
     "output_type": "stream",
     "text": [
      "Random Forest MSE: 14794470863.612017\n",
      "Random Forest R-squared: 0.6167246677854634\n"
     ]
    }
   ],
   "source": [
    "from sklearn.linear_model import LinearRegression\n",
    "from sklearn.ensemble import RandomForestRegressor\n",
    "from sklearn.svm import SVR\n",
    "from sklearn.metrics import mean_squared_error\n",
    "\n",
    "# Random Forest Regressor\n",
    "rf_model = RandomForestRegressor()\n",
    "rf_model.fit(features_train, target_train)\n",
    "rf_predictions = rf_model.predict(features_test)\n",
    "rf_mse = mean_squared_error(target_test, rf_predictions)\n",
    "rf_r2 = r2_score(target_test, rf_predictions)\n",
    "print(\"Random Forest MSE:\", rf_mse)\n",
    "print(\"Random Forest R-squared:\", rf_r2)"
   ]
  },
  {
   "cell_type": "markdown",
   "id": "c7f7f8b7",
   "metadata": {},
   "source": [
    "# 3. Support Vector Regressor"
   ]
  },
  {
   "cell_type": "code",
   "execution_count": 26,
   "id": "656b2453",
   "metadata": {},
   "outputs": [
    {
     "name": "stdout",
     "output_type": "stream",
     "text": [
      "SVM MSE: 39790987271.57818\n",
      "SVM R-squared: -0.030851593561830537\n"
     ]
    }
   ],
   "source": [
    "# Support Vector Machine (SVM) Regressor\n",
    "svm_model = SVR()\n",
    "svm_model.fit(features_train, target_train)\n",
    "svm_predictions = svm_model.predict(features_test)\n",
    "svm_mse = mean_squared_error(target_test, svm_predictions)\n",
    "svm_r2 = r2_score(target_test, svm_predictions)\n",
    "print(\"SVM MSE:\", svm_mse)\n",
    "print(\"SVM R-squared:\", svm_r2)"
   ]
  }
 ],
 "metadata": {
  "kernelspec": {
   "display_name": "mid_bootcamp_env",
   "language": "python",
   "name": "mid_bootcamp_env"
  },
  "language_info": {
   "codemirror_mode": {
    "name": "ipython",
    "version": 3
   },
   "file_extension": ".py",
   "mimetype": "text/x-python",
   "name": "python",
   "nbconvert_exporter": "python",
   "pygments_lexer": "ipython3",
   "version": "3.10.9"
  }
 },
 "nbformat": 4,
 "nbformat_minor": 5
}
