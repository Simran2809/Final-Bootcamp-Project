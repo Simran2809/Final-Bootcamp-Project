{
 "cells": [
  {
   "cell_type": "markdown",
   "id": "8a249248",
   "metadata": {},
   "source": [
    "Plan\n",
    "1. Clean dataset\n",
    "Categoricals\n",
    "SEX -> homogenize values to M or F\n",
    "Missing values '?' on multiple columns\n",
    "Drop column\n",
    "Drop row\n",
    "Fill with mode\n",
    "Impute with KNN\n",
    "Numericals\n",
    "Missing values '?' -> Impute with KNN\n",
    "2. Dataset Split\n",
    "X/y split\n",
    "Train / Test Split\n",
    "3. Scaling with Standard Scaler\n",
    "4. Fix Class Imbalance\n",
    "Upsampling\n",
    "Downsampling\n",
    "SMOTE\n",
    "Tomek\n",
    "5. Feature selection?\n",
    "6. Model selection\n",
    "Random Forest\n",
    "Logistic Regression\n",
    "KNN\n",
    "7. Model evaluation\n",
    "Optimize -> Kappa\n",
    "8. Model tuning\n",
    "RandomSearchCV + GridSearchCV"
   ]
  },
  {
   "cell_type": "markdown",
   "id": "b00a91d1",
   "metadata": {},
   "source": [
    "# Import libraries"
   ]
  },
  {
   "cell_type": "code",
   "execution_count": null,
   "id": "d0de9953",
   "metadata": {},
   "outputs": [],
   "source": [
    "# Import libraries\n",
    "import pandas as pd\n",
    "import numpy as np\n",
    "from sklearn.model_selection import train_test_split\n",
    "from sklearn.preprocessing import StandardScaler\n",
    "from imblearn.over_sampling import RandomOverSampler\n",
    "from imblearn.under_sampling import RandomUnderSampler\n",
    "from imblearn.over_sampling import SMOTE\n",
    "from imblearn.under_sampling import TomekLinks \n",
    "from sklearn.model_selection import train_test_split, RandomizedSearchCV, GridSearchCV\n",
    "from sklearn.ensemble import RandomForestClassifier\n",
    "from sklearn.metrics import make_scorer, cohen_kappa_score\n",
    "from sklearn.linear_model import LogisticRegression\n",
    "from sklearn.ensemble import RandomForestClassifier\n",
    "from sklearn.neighbors import KNeighborsClassifier\n",
    "from sklearn.model_selection import cross_val_score"
   ]
  },
  {
   "cell_type": "markdown",
   "id": "8a2be27d",
   "metadata": {},
   "source": [
    "# Load Clean Data"
   ]
  },
  {
   "cell_type": "code",
   "execution_count": null,
   "id": "4d5aadc1",
   "metadata": {},
   "outputs": [],
   "source": []
  },
  {
   "cell_type": "markdown",
   "id": "e94424a9",
   "metadata": {},
   "source": [
    "# Split Features / Target"
   ]
  },
  {
   "cell_type": "code",
   "execution_count": null,
   "id": "590682ce",
   "metadata": {},
   "outputs": [],
   "source": [
    "# Separate the features from the target\n",
    "y = \n",
    "X = "
   ]
  },
  {
   "cell_type": "markdown",
   "id": "90aa8b0a",
   "metadata": {},
   "source": [
    "# Train-Test Split"
   ]
  },
  {
   "cell_type": "code",
   "execution_count": 1,
   "id": "f7b8da45",
   "metadata": {},
   "outputs": [
    {
     "ename": "NameError",
     "evalue": "name 'train_test_split' is not defined",
     "output_type": "error",
     "traceback": [
      "\u001b[1;31m---------------------------------------------------------------------------\u001b[0m",
      "\u001b[1;31mNameError\u001b[0m                                 Traceback (most recent call last)",
      "Cell \u001b[1;32mIn[1], line 2\u001b[0m\n\u001b[0;32m      1\u001b[0m \u001b[38;5;66;03m# Generate the train-test split\u001b[39;00m\n\u001b[1;32m----> 2\u001b[0m X_train, X_test, y_train, y_test \u001b[38;5;241m=\u001b[39m \u001b[43mtrain_test_split\u001b[49m(X, y, test_size\u001b[38;5;241m=\u001b[39m\u001b[38;5;241m0.3\u001b[39m, random_state\u001b[38;5;241m=\u001b[39m\u001b[38;5;241m42\u001b[39m)\n",
      "\u001b[1;31mNameError\u001b[0m: name 'train_test_split' is not defined"
     ]
    }
   ],
   "source": [
    "# Generate the train-test split\n",
    "X_train, X_test, y_train, y_test = train_test_split(X, y, test_size=0.3, random_state=42)"
   ]
  },
  {
   "cell_type": "markdown",
   "id": "bb4ab94b",
   "metadata": {},
   "source": [
    "# Scale Numerical Columns"
   ]
  },
  {
   "cell_type": "code",
   "execution_count": null,
   "id": "9d69f870",
   "metadata": {},
   "outputs": [],
   "source": [
    "# Select StandardScaler\n",
    "scaler = StandardScaler()\n",
    "\n",
    "# Fit scaler with TRAIN data\n",
    "scaler.fit(X_train)\n",
    "\n",
    "# Scale X_train_num_transformed with fitted scaler. Output is a np.array.\n",
    "X_train_scaled = scaler.transform(X_train)\n",
    "X_test_scaled = scaler.transform(X_test)\n",
    "\n",
    "# Add columns to np.array to create a DataFrame\n",
    "X_train_scaled_df = pd.DataFrame(X_train_scaled, \n",
    "                                 columns=X_train.columns, \n",
    "                                 index=X_train.index)\n",
    "\n",
    "X_test_scaled_df = pd.DataFrame(X_test_scaled, \n",
    "                                columns=X_test.columns,\n",
    "                                index=X_test.index)"
   ]
  },
  {
   "cell_type": "markdown",
   "id": "4dc102ee",
   "metadata": {},
   "source": [
    "# Balance Target Column"
   ]
  },
  {
   "cell_type": "markdown",
   "id": "787993c3",
   "metadata": {},
   "source": [
    "Four possible methods:\n",
    "\n",
    "1. Upsampling minority class\n",
    "2. Downsampling majority class\n",
    "3. SMOTE\n",
    "4. TOMEK"
   ]
  },
  {
   "cell_type": "markdown",
   "id": "e25067c7",
   "metadata": {},
   "source": [
    "# Model Selection"
   ]
  },
  {
   "cell_type": "code",
   "execution_count": null,
   "id": "916db484",
   "metadata": {},
   "outputs": [],
   "source": [
    "# Create models\n",
    "model1 = LogisticRegression()\n",
    "model2 = RandomForestClassifier()\n",
    "model3 = KNeighborsClassifier()\n",
    "\n",
    "model_pipeline = [model1, model2, model3]\n",
    "model_names = ['Logistic Regression', 'Random Forest Classifier', 'KNN']\n",
    "\n",
    "scores = {}\n",
    "\n",
    "for model, model_name in zip(model_pipeline, model_names):\n",
    "    mean_score = np.mean(cross_val_score(model, X_train_balanced, y_train_balanced, cv=5))\n",
    "    scores[model_name] = mean_score\n",
    "\n",
    "print(scores)"
   ]
  }
 ],
 "metadata": {
  "kernelspec": {
   "display_name": "mid_bootcamp_env",
   "language": "python",
   "name": "mid_bootcamp_env"
  },
  "language_info": {
   "codemirror_mode": {
    "name": "ipython",
    "version": 3
   },
   "file_extension": ".py",
   "mimetype": "text/x-python",
   "name": "python",
   "nbconvert_exporter": "python",
   "pygments_lexer": "ipython3",
   "version": "3.10.9"
  }
 },
 "nbformat": 4,
 "nbformat_minor": 5
}
